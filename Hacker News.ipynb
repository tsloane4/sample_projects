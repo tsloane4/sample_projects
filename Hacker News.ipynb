{
 "cells": [
  {
   "cell_type": "markdown",
   "metadata": {},
   "source": [
    "# Hacker News post analysis"
   ]
  },
  {
   "cell_type": "markdown",
   "metadata": {},
   "source": [
    "Objective: to determine:\n",
    "\n",
    "* Do Ask HN or Show HN receive more comments on average?\n",
    "* Do posts created at a certain time receive more comments on average?"
   ]
  },
  {
   "cell_type": "code",
   "execution_count": 31,
   "metadata": {},
   "outputs": [],
   "source": [
    "from csv import reader\n",
    "import datetime as dt"
   ]
  },
  {
   "cell_type": "code",
   "execution_count": 12,
   "metadata": {},
   "outputs": [],
   "source": [
    "opened_file = open(\"/Users/Taylor/OneDrive/Documents/DC/Dataquest/Hacker News/train.csv\", encoding='utf8')\n",
    "read_file = reader(opened_file)\n",
    "data = list(read_file)\n",
    "hn_header = data[0]\n",
    "hn = data[1:]"
   ]
  },
  {
   "cell_type": "code",
   "execution_count": 13,
   "metadata": {},
   "outputs": [
    {
     "name": "stdout",
     "output_type": "stream",
     "text": [
      "['id', 'title', 'url', 'num_points', 'num_comments', 'author', 'created_at']\n"
     ]
    }
   ],
   "source": [
    "print(hn_header)\n"
   ]
  },
  {
   "cell_type": "markdown",
   "metadata": {},
   "source": [
    "Fields are:\n",
    "* id: The unique identifier from Hacker News for the post\n",
    "* title: The title of the post\n",
    "* url: The URL that the posts links to, if it the post has a URL\n",
    "* num_points: The number of points the post acquired, calculated as the total number of upvotes minus the total number of downvotes\n",
    "* num_comments: The number of comments that were made on the post\n",
    "* author: The username of the person who submitted the post\n",
    "* created_at: The date and time at which the post was submitted"
   ]
  },
  {
   "cell_type": "code",
   "execution_count": 14,
   "metadata": {},
   "outputs": [
    {
     "name": "stdout",
     "output_type": "stream",
     "text": [
      "[['12579008', 'You have two days to comment if you want stem cells to be classified as your own', 'http://www.regulations.gov/document?D=FDA-2015-D-3719-0018', '1', '0', 'altstar', '9/26/2016 3:26'], ['12579005', 'SQLAR  the SQLite Archiver', 'https://www.sqlite.org/sqlar/doc/trunk/README.md', '1', '0', 'blacksqr', '9/26/2016 3:24'], ['12578997', 'What if we just printed a flatscreen television on the side of our boxes?', 'https://medium.com/vanmoof/our-secrets-out-f21c1f03fdc8#.ietxmez43', '1', '0', 'pavel_lishin', '9/26/2016 3:19'], ['12578989', 'algorithmic music', 'http://cacm.acm.org/magazines/2011/7/109891-algorithmic-composition/fulltext', '1', '0', 'poindontcare', '9/26/2016 3:16']]\n"
     ]
    }
   ],
   "source": [
    "print(hn[:4])"
   ]
  },
  {
   "cell_type": "markdown",
   "metadata": {},
   "source": [
    "Since we're only concerned with post titles beginning with Ask HN or Show HN, we'll create new lists of lists containing just the data for those titles."
   ]
  },
  {
   "cell_type": "code",
   "execution_count": 19,
   "metadata": {},
   "outputs": [
    {
     "name": "stdout",
     "output_type": "stream",
     "text": [
      "Ask HN posts: 9139\n",
      "Show HN posts: 10158\n",
      "Other HN posts: 273822\n",
      "Total posts: 293119\n"
     ]
    }
   ],
   "source": [
    "ask_posts = []\n",
    "show_posts = []\n",
    "other_posts = []\n",
    "\n",
    "for row in hn:\n",
    "    title = row[1]\n",
    "    title = title.lower()\n",
    "    if title.startswith(\"ask hn\"):\n",
    "        ask_posts.append(row)\n",
    "    elif title.startswith(\"show hn\"):\n",
    "        show_posts.append(row)\n",
    "    else:\n",
    "        other_posts.append(row)\n",
    "\n",
    "print(\"Ask HN posts:\", len(ask_posts))\n",
    "print(\"Show HN posts:\", len(show_posts))\n",
    "print(\"Other HN posts:\", len(other_posts))\n",
    "print(\"Total posts:\", len(hn))"
   ]
  },
  {
   "cell_type": "markdown",
   "metadata": {},
   "source": [
    "Let's determine if ask posts or show posts receive more comments on average."
   ]
  },
  {
   "cell_type": "code",
   "execution_count": 23,
   "metadata": {},
   "outputs": [
    {
     "name": "stdout",
     "output_type": "stream",
     "text": [
      "There are  10.4 comments per average ask post\n",
      "There are  4.9 comments per average show post\n"
     ]
    }
   ],
   "source": [
    "#Ask posts comments\n",
    "total_ask_comments = 0\n",
    "for row in ask_posts:\n",
    "    comments = int(row[4])\n",
    "    total_ask_comments += comments\n",
    "\n",
    "avg_ask_comments = total_ask_comments / len(ask_posts)\n",
    "ask_string = \"There are {comments: .1f} comments per average ask post\".format(comments = avg_ask_comments)\n",
    "print(ask_string)\n",
    "\n",
    "#Show posts comments\n",
    "total_show_comments = 0\n",
    "for row in show_posts:\n",
    "    comments = int(row[4])\n",
    "    total_show_comments += comments\n",
    "\n",
    "avg_show_comments = total_show_comments / len(show_posts)\n",
    "show_string = \"There are {comments: .1f} comments per average show post\".format(comments = avg_show_comments)\n",
    "print(show_string)"
   ]
  },
  {
   "cell_type": "markdown",
   "metadata": {},
   "source": [
    "It looks like ask posts receive more than double the comments as show posts. Since ask posts are more likely to receive comments, we'll focus our remaining analysis just on these posts.\n",
    "\n",
    "Next, we'll determine if ask posts created at a certain time are more likely to attract comments."
   ]
  },
  {
   "cell_type": "code",
   "execution_count": 28,
   "metadata": {},
   "outputs": [],
   "source": [
    "result_list = []\n",
    "for row in ask_posts:\n",
    "    created  = row[6]\n",
    "    comments = int(row[4])\n",
    "    result = [created, comments]\n",
    "    result_list.append(result)"
   ]
  },
  {
   "cell_type": "code",
   "execution_count": 30,
   "metadata": {},
   "outputs": [
    {
     "name": "stdout",
     "output_type": "stream",
     "text": [
      "9139\n"
     ]
    }
   ],
   "source": [
    "print(len(result_list))"
   ]
  },
  {
   "cell_type": "code",
   "execution_count": 41,
   "metadata": {},
   "outputs": [
    {
     "name": "stdout",
     "output_type": "stream",
     "text": [
      "{2: 2996, 1: 2089, 22: 3372, 21: 4500, 19: 3954, 17: 5547, 15: 18525, 14: 4972, 13: 7245, 11: 2797, 10: 3013, 9: 1477, 7: 1585, 3: 2154, 23: 2297, 20: 4462, 16: 4466, 8: 2362, 0: 2277, 18: 4877, 12: 4234, 4: 2360, 6: 1587, 5: 1838}\n",
      "{2: 269, 1: 282, 22: 383, 21: 518, 19: 552, 17: 587, 15: 646, 14: 513, 13: 444, 11: 312, 10: 282, 9: 222, 7: 226, 3: 271, 23: 343, 20: 510, 16: 579, 8: 257, 0: 301, 18: 614, 12: 342, 4: 243, 6: 234, 5: 209}\n"
     ]
    }
   ],
   "source": [
    "counts_by_hour = {}\n",
    "comments_by_hour = {}\n",
    "for row in result_list:\n",
    "    hour = row[0]\n",
    "    comments = int(row[1])\n",
    "    #Format looks like this \"9/26/2016 3:26\"\n",
    "    hour = dt.datetime.strptime(hour, \"%m/%d/%Y %H:%M\")\n",
    "    hour = hour.hour\n",
    "    if hour in counts_by_hour:\n",
    "        counts_by_hour[hour] += 1\n",
    "        comments_by_hour[hour] += comments \n",
    "    else:\n",
    "        counts_by_hour[hour] = 1\n",
    "        comments_by_hour[hour] = comments \n",
    "print(comments_by_hour)\n",
    "print(counts_by_hour)"
   ]
  },
  {
   "cell_type": "code",
   "execution_count": 70,
   "metadata": {},
   "outputs": [
    {
     "name": "stdout",
     "output_type": "stream",
     "text": [
      "At 2:00: 11.1 comments\n",
      "At 1:00: 7.4 comments\n",
      "At 22:00: 8.8 comments\n",
      "At 21:00: 8.7 comments\n",
      "At 19:00: 7.2 comments\n",
      "At 17:00: 9.4 comments\n",
      "At 15:00: 28.7 comments\n",
      "At 14:00: 9.7 comments\n",
      "At 13:00: 16.3 comments\n",
      "At 11:00: 9.0 comments\n",
      "At 10:00: 10.7 comments\n",
      "At 9:00: 6.7 comments\n",
      "At 7:00: 7.0 comments\n",
      "At 3:00: 7.9 comments\n",
      "At 23:00: 6.7 comments\n",
      "At 20:00: 8.7 comments\n",
      "At 16:00: 7.7 comments\n",
      "At 8:00: 9.2 comments\n",
      "At 0:00: 7.6 comments\n",
      "At 18:00: 7.9 comments\n",
      "At 12:00: 12.4 comments\n",
      "At 4:00: 9.7 comments\n",
      "At 6:00: 6.8 comments\n",
      "At 5:00: 8.8 comments\n"
     ]
    }
   ],
   "source": [
    "avg_comments = []\n",
    "\n",
    "for row in comments_by_hour:\n",
    "    avg_comments.append([str(row), comments_by_hour[row] / counts_by_hour[row]])\n",
    "    print(\"At {hour}:00: {comments:.1f} comments\".format(hour = row, comments = comments_by_hour[row] / counts_by_hour[row]))\n",
    "#print(avg_comments)\n",
    "#sorted_avg_comments = sorted(avg_comments, reverse = False)\n",
    "#print(sorted_avg_comments)    "
   ]
  },
  {
   "cell_type": "markdown",
   "metadata": {},
   "source": [
    "Let's see what are the top 5 hours of the day"
   ]
  },
  {
   "cell_type": "code",
   "execution_count": 76,
   "metadata": {},
   "outputs": [
    {
     "name": "stdout",
     "output_type": "stream",
     "text": [
      "At 15:00: 28.7 comments\n",
      "At 13:00: 16.3 comments\n",
      "At 12:00: 12.4 comments\n",
      "At 2:00: 11.1 comments\n",
      "At 10:00: 10.7 comments\n",
      "At 4:00: 9.7 comments\n",
      "At 14:00: 9.7 comments\n",
      "At 17:00: 9.4 comments\n",
      "At 8:00: 9.2 comments\n",
      "At 11:00: 9.0 comments\n",
      "At 22:00: 8.8 comments\n",
      "At 5:00: 8.8 comments\n",
      "At 20:00: 8.7 comments\n",
      "At 21:00: 8.7 comments\n",
      "At 3:00: 7.9 comments\n",
      "At 18:00: 7.9 comments\n",
      "At 16:00: 7.7 comments\n",
      "At 0:00: 7.6 comments\n",
      "At 1:00: 7.4 comments\n",
      "At 19:00: 7.2 comments\n",
      "At 7:00: 7.0 comments\n",
      "At 6:00: 6.8 comments\n",
      "At 23:00: 6.7 comments\n",
      "At 9:00: 6.7 comments\n"
     ]
    }
   ],
   "source": [
    "swap_avg_by_hour = []\n",
    "for row in avg_comments:\n",
    "    swap = []\n",
    "    swap.append(float(row[1]))\n",
    "    swap.append(row[0])\n",
    "    swap_avg_by_hour.append(swap)\n",
    "#print(swap_avg_by_hour)\n",
    "sorted_avg_comments = sorted(swap_avg_by_hour, reverse = True)\n",
    "for row in sorted_avg_comments:\n",
    "    print(\"At {hour}:00: {comments:.1f} comments\".format(hour = row[1], comments = row[0]))"
   ]
  },
  {
   "cell_type": "markdown",
   "metadata": {},
   "source": [
    "Ok, so looks like top hours of the day are 10 am - 3 pm ET with 3 pm being the highest.    "
   ]
  },
  {
   "cell_type": "markdown",
   "metadata": {},
   "source": [
    "# Conclusion"
   ]
  },
  {
   "cell_type": "markdown",
   "metadata": {},
   "source": [
    "If your goal is to maximize comments on a Hacker News post, you should post on the Ask Posts page between 10 am and 3 pm, with 3 pm being the best with 28.7 comments on average. This result makes sense because it is during working hours for both the West Coast and East Coast. "
   ]
  }
 ],
 "metadata": {
  "kernelspec": {
   "display_name": "Python 3",
   "language": "python",
   "name": "python3"
  },
  "language_info": {
   "codemirror_mode": {
    "name": "ipython",
    "version": 3
   },
   "file_extension": ".py",
   "mimetype": "text/x-python",
   "name": "python",
   "nbconvert_exporter": "python",
   "pygments_lexer": "ipython3",
   "version": "3.7.4"
  }
 },
 "nbformat": 4,
 "nbformat_minor": 2
}
